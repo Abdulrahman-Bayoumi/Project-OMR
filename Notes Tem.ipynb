{
  "metadata": {
    "language_info": {
      "codemirror_mode": {
        "name": "python",
        "version": 3
      },
      "file_extension": ".py",
      "mimetype": "text/x-python",
      "name": "python",
      "nbconvert_exporter": "python",
      "pygments_lexer": "ipython3",
      "version": "3.8"
    },
    "kernelspec": {
      "name": "python",
      "display_name": "Python (Pyodide)",
      "language": "python"
    }
  },
  "nbformat_minor": 4,
  "nbformat": 4,
  "cells": [
    {
      "cell_type": "code",
      "source": "\n\"dimensions\": \n      1-The dimensions to which each input image will be resized to before processing\n\"bubbleDimensions\": \n      2- The dimensions of the overlay bubble area\n\"preProcessors\":\n      1-size of the kernel to use for cropping (default for most cases)\n      2-path to marker file\n      3-a factor by which marker shall be resized relative to input image \n\"concatenations\":\n      4-\"concatenations\":he Concatenations parameter is a way to tell OMRChecker which fields need to be joined together before outputting into \n      5-case of Concatenations - for two-digit integer type questions. Concatenating the two columns in the template(\"q5.1\" and \"q5.2\") eases the answer checking in the csv.\n\"singles\": \n      6-\"singles\":All the remaining fields(in order) whose readings shall be forwarded directly in the output csv\n\"qBlocks\": \n         Each rectangular box you see in the template overlay image is an element of QBlock  a QBlock is either a rectangular box, or a grid of such boxes.\n-each box need to define this parameter\n     1- name of the QBlock\n     2- \"qType\": qTypes are currently defined in template.py in the map qtype_data ( \"QTYPE_MED\"- \"QTYPE_ROLL\" -\"QTYPE_INT\")\n     3- \"orig\": the top left starting point of QBlock\n     4- \"bigGaps\": (bigGapX, bigGapY) are the gaps between origins of each box\n     5-  \"gaps\": (gapX,gapY) are the gaps between rows and cols in a box i.e. gaps between the bubbles\n     6- \"qNos\": qNos(nested array) defines the arrangement of questions in this QBlock\n          example \n         [\n            // each column mentioned below will have a distance of 'gapX' between them, and a vertical distance of 'gapY' between each bubbles\n            \"roll0\",\n            \"roll1\",\n            \"roll2\",\n            \"roll3\",\n            \"roll4\",\n            \"roll5\",\n            \"roll6\",\n            \"roll7\",\n            \"roll8\"\n          ]\n      \n      \n      ",
      "metadata": {},
      "execution_count": null,
      "outputs": []
    },
    {
      "cell_type": "code",
      "source": "",
      "metadata": {},
      "execution_count": null,
      "outputs": []
    }
  ]
}